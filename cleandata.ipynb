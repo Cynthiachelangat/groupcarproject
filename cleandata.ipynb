{
 "cells": [
  {
   "cell_type": "code",
   "execution_count": 1,
   "metadata": {},
   "outputs": [],
   "source": [
    "import pandas as pd\n",
    "import numpy as np\n",
    "import matplotlib.pyplot as plt\n",
    "%matplotlib inline\n",
    "import seaborn as sns\n",
    "from sklearn.model_selection import train_test_split\n",
    "from sklearn import linear_model\n",
    "from sklearn.linear_model import LinearRegression\n",
    "import statsmodels.api as sm\n",
    "from sklearn import metrics\n",
    "import scipy.stats\n",
    "import warnings\n",
    "warnings.filterwarnings('ignore')"
   ]
  },
  {
   "cell_type": "code",
   "execution_count": 2,
   "metadata": {},
   "outputs": [
    {
     "name": "stdout",
     "output_type": "stream",
     "text": [
      "Requirement already satisfied: openpyxl in c:\\users\\scienthia\\anaconda3\\envs\\learn-env\\lib\\site-packages (3.1.2)\n",
      "Requirement already satisfied: et-xmlfile in c:\\users\\scienthia\\anaconda3\\envs\\learn-env\\lib\\site-packages (from openpyxl) (1.1.0)\n",
      "Note: you may need to restart the kernel to use updated packages.\n"
     ]
    }
   ],
   "source": [
    "pip install openpyxl\n"
   ]
  },
  {
   "cell_type": "markdown",
   "metadata": {},
   "source": [
    "### Load the dataset and inspect the first five rows and the last five rows"
   ]
  },
  {
   "cell_type": "code",
   "execution_count": 3,
   "metadata": {},
   "outputs": [
    {
     "data": {
      "text/html": [
       "<div>\n",
       "<style scoped>\n",
       "    .dataframe tbody tr th:only-of-type {\n",
       "        vertical-align: middle;\n",
       "    }\n",
       "\n",
       "    .dataframe tbody tr th {\n",
       "        vertical-align: top;\n",
       "    }\n",
       "\n",
       "    .dataframe thead th {\n",
       "        text-align: right;\n",
       "    }\n",
       "</style>\n",
       "<table border=\"1\" class=\"dataframe\">\n",
       "  <thead>\n",
       "    <tr style=\"text-align: right;\">\n",
       "      <th></th>\n",
       "      <th>Model</th>\n",
       "      <th>Make</th>\n",
       "      <th>YOM</th>\n",
       "      <th>Color</th>\n",
       "      <th>Used</th>\n",
       "      <th>Transmission</th>\n",
       "      <th>Mileage</th>\n",
       "      <th>Location</th>\n",
       "      <th>Price</th>\n",
       "    </tr>\n",
       "  </thead>\n",
       "  <tbody>\n",
       "    <tr>\n",
       "      <th>0</th>\n",
       "      <td>X-Trail</td>\n",
       "      <td>Nissan</td>\n",
       "      <td>2014</td>\n",
       "      <td>Black</td>\n",
       "      <td>Foreign Used</td>\n",
       "      <td>Automatic</td>\n",
       "      <td>136000</td>\n",
       "      <td>Nairobi, Karen</td>\n",
       "      <td>KSh 2,050,000</td>\n",
       "    </tr>\n",
       "    <tr>\n",
       "      <th>1</th>\n",
       "      <td>Teana</td>\n",
       "      <td>Nissan</td>\n",
       "      <td>2014</td>\n",
       "      <td>Silver</td>\n",
       "      <td>Foreign Used</td>\n",
       "      <td>Automatic</td>\n",
       "      <td>85000</td>\n",
       "      <td>Nairobi, Kilimani</td>\n",
       "      <td>KSh 1,380,000</td>\n",
       "    </tr>\n",
       "    <tr>\n",
       "      <th>2</th>\n",
       "      <td>Teana</td>\n",
       "      <td>Nissan</td>\n",
       "      <td>2013</td>\n",
       "      <td>Gray</td>\n",
       "      <td>Foreign Used</td>\n",
       "      <td>Automatic</td>\n",
       "      <td>90231</td>\n",
       "      <td>Nairobi, Ridgeways</td>\n",
       "      <td>KSh 995,000</td>\n",
       "    </tr>\n",
       "    <tr>\n",
       "      <th>3</th>\n",
       "      <td>X-Trail</td>\n",
       "      <td>Nissan</td>\n",
       "      <td>2014</td>\n",
       "      <td>White</td>\n",
       "      <td>Foreign Used</td>\n",
       "      <td>Automatic</td>\n",
       "      <td>52000</td>\n",
       "      <td>Nairobi, Jamhuri</td>\n",
       "      <td>KSh 2,500,000</td>\n",
       "    </tr>\n",
       "    <tr>\n",
       "      <th>4</th>\n",
       "      <td>Note</td>\n",
       "      <td>Nissan</td>\n",
       "      <td>2014</td>\n",
       "      <td>White</td>\n",
       "      <td>Foreign Used</td>\n",
       "      <td>Automatic</td>\n",
       "      <td>Unavailable</td>\n",
       "      <td>Mombasa, Mombasa CBD</td>\n",
       "      <td>KSh 1,100,000</td>\n",
       "    </tr>\n",
       "  </tbody>\n",
       "</table>\n",
       "</div>"
      ],
      "text/plain": [
       "     Model    Make   YOM   Color          Used Transmission      Mileage  \\\n",
       "0  X-Trail  Nissan  2014   Black  Foreign Used    Automatic       136000   \n",
       "1    Teana  Nissan  2014  Silver  Foreign Used    Automatic        85000   \n",
       "2    Teana  Nissan  2013    Gray  Foreign Used    Automatic        90231   \n",
       "3  X-Trail  Nissan  2014   White  Foreign Used    Automatic        52000   \n",
       "4     Note  Nissan  2014   White  Foreign Used    Automatic  Unavailable   \n",
       "\n",
       "               Location          Price  \n",
       "0        Nairobi, Karen  KSh 2,050,000  \n",
       "1     Nairobi, Kilimani  KSh 1,380,000  \n",
       "2    Nairobi, Ridgeways    KSh 995,000  \n",
       "3      Nairobi, Jamhuri  KSh 2,500,000  \n",
       "4  Mombasa, Mombasa CBD  KSh 1,100,000  "
      ]
     },
     "execution_count": 3,
     "metadata": {},
     "output_type": "execute_result"
    }
   ],
   "source": [
    "cars = pd.read_excel(\"data\\JijiCarsRawDataFinal.xlsx\")\n",
    "# check the first 5 rows\n",
    "cars.head()"
   ]
  },
  {
   "cell_type": "code",
   "execution_count": 4,
   "metadata": {},
   "outputs": [
    {
     "data": {
      "text/html": [
       "<div>\n",
       "<style scoped>\n",
       "    .dataframe tbody tr th:only-of-type {\n",
       "        vertical-align: middle;\n",
       "    }\n",
       "\n",
       "    .dataframe tbody tr th {\n",
       "        vertical-align: top;\n",
       "    }\n",
       "\n",
       "    .dataframe thead th {\n",
       "        text-align: right;\n",
       "    }\n",
       "</style>\n",
       "<table border=\"1\" class=\"dataframe\">\n",
       "  <thead>\n",
       "    <tr style=\"text-align: right;\">\n",
       "      <th></th>\n",
       "      <th>Model</th>\n",
       "      <th>Make</th>\n",
       "      <th>YOM</th>\n",
       "      <th>Color</th>\n",
       "      <th>Used</th>\n",
       "      <th>Transmission</th>\n",
       "      <th>Mileage</th>\n",
       "      <th>Location</th>\n",
       "      <th>Price</th>\n",
       "    </tr>\n",
       "  </thead>\n",
       "  <tbody>\n",
       "    <tr>\n",
       "      <th>46680</th>\n",
       "      <td>Romeo</td>\n",
       "      <td>Alfa</td>\n",
       "      <td>2015</td>\n",
       "      <td>Black</td>\n",
       "      <td>Foreign Used</td>\n",
       "      <td>Automatic</td>\n",
       "      <td>Unavailable</td>\n",
       "      <td>Nairobi, Kilimani</td>\n",
       "      <td>KSh 1,800,000</td>\n",
       "    </tr>\n",
       "    <tr>\n",
       "      <th>46681</th>\n",
       "      <td>Romeo</td>\n",
       "      <td>Alfa</td>\n",
       "      <td>2016</td>\n",
       "      <td>White</td>\n",
       "      <td>Foreign Used</td>\n",
       "      <td>Automatic</td>\n",
       "      <td>75048</td>\n",
       "      <td>Nairobi, Ridgeways</td>\n",
       "      <td>KSh 1,500,000</td>\n",
       "    </tr>\n",
       "    <tr>\n",
       "      <th>46682</th>\n",
       "      <td>Romeo</td>\n",
       "      <td>Alfa</td>\n",
       "      <td>2002</td>\n",
       "      <td>Red</td>\n",
       "      <td>Kenyan Used</td>\n",
       "      <td>Automatic</td>\n",
       "      <td>72000</td>\n",
       "      <td>Nairobi, Westlands</td>\n",
       "      <td>KSh 289,000</td>\n",
       "    </tr>\n",
       "    <tr>\n",
       "      <th>46683</th>\n",
       "      <td>Romeo</td>\n",
       "      <td>Alfa</td>\n",
       "      <td>1992</td>\n",
       "      <td>Blue</td>\n",
       "      <td>Kenyan Used</td>\n",
       "      <td>Manual</td>\n",
       "      <td>150000</td>\n",
       "      <td>Nairobi, Karen</td>\n",
       "      <td>KSh 300,000</td>\n",
       "    </tr>\n",
       "    <tr>\n",
       "      <th>46684</th>\n",
       "      <td>Romeo</td>\n",
       "      <td>Alfa</td>\n",
       "      <td>1987</td>\n",
       "      <td>Red</td>\n",
       "      <td>Kenyan Used</td>\n",
       "      <td>Manual</td>\n",
       "      <td>Unavailable</td>\n",
       "      <td>Kajiado, Ongata Rongai</td>\n",
       "      <td>KSh 80,000</td>\n",
       "    </tr>\n",
       "  </tbody>\n",
       "</table>\n",
       "</div>"
      ],
      "text/plain": [
       "       Model  Make   YOM  Color          Used Transmission      Mileage  \\\n",
       "46680  Romeo  Alfa  2015  Black  Foreign Used    Automatic  Unavailable   \n",
       "46681  Romeo  Alfa  2016  White  Foreign Used    Automatic        75048   \n",
       "46682  Romeo  Alfa  2002    Red   Kenyan Used    Automatic        72000   \n",
       "46683  Romeo  Alfa  1992   Blue   Kenyan Used       Manual       150000   \n",
       "46684  Romeo  Alfa  1987    Red   Kenyan Used       Manual  Unavailable   \n",
       "\n",
       "                     Location          Price  \n",
       "46680       Nairobi, Kilimani  KSh 1,800,000  \n",
       "46681      Nairobi, Ridgeways  KSh 1,500,000  \n",
       "46682      Nairobi, Westlands    KSh 289,000  \n",
       "46683          Nairobi, Karen    KSh 300,000  \n",
       "46684  Kajiado, Ongata Rongai     KSh 80,000  "
      ]
     },
     "execution_count": 4,
     "metadata": {},
     "output_type": "execute_result"
    }
   ],
   "source": [
    "# check the last 5 rows\n",
    "cars.tail()"
   ]
  },
  {
   "cell_type": "markdown",
   "metadata": {},
   "source": [
    "### Displaying a list of all the keys in the dictionary cars."
   ]
  },
  {
   "cell_type": "code",
   "execution_count": 5,
   "metadata": {},
   "outputs": [
    {
     "data": {
      "text/plain": [
       "Index(['Model', 'Make', 'YOM', 'Color', 'Used', 'Transmission', 'Mileage',\n",
       "       'Location', 'Price'],\n",
       "      dtype='object')"
      ]
     },
     "execution_count": 5,
     "metadata": {},
     "output_type": "execute_result"
    }
   ],
   "source": [
    "cars.keys()"
   ]
  },
  {
   "cell_type": "code",
   "execution_count": 6,
   "metadata": {},
   "outputs": [
    {
     "data": {
      "text/plain": [
       "array(['X-Trail', 'Teana', 'Note', 'Qashqai', 'Navara', 'March',\n",
       "       'Skyline', 'Elgrand', 'Fuga', 'Lafesta', 'Sylphy', 'Juke', 'Latio',\n",
       "       'Dayz', 'Tiida', 'Moco', 'NV3500', 'Pick-Up', 'Serena', 'Advan',\n",
       "       'Murano', 'Cube', 'Dualis', 'Wingroad', 'Bluebird', 'Caravan',\n",
       "       'Vanette', 'NP300', 'NV100', '200SX', 'Leaf', '260Z', 'XTrail',\n",
       "       'Commercial', 'Sunny', '100', 'Altima', 'GT-R', 'Silvia', 'Patrol',\n",
       "       'FB14', '350Z', 'Versa', 'Primera', 'Atlas', 'Hardbody',\n",
       "       'Pathfinder', 'NV200', 'FB15', 'DoubleCab', 'Pulsar', 'Terrano',\n",
       "       '1400', 'Liberty', 'Almera', 'Carina', 'Avenir', 'Pino', 'Titan',\n",
       "       'Cabstar', 'UD', 'Otti', 'Prairie', '370Z', '240SX', '300ZX',\n",
       "       '899,999', 'Micra', 'Cima', '620,000', 'Cefiro', 'Violet',\n",
       "       'Cedric', 'Extrail', 'Forester', 'Outback', 'Legacy', 'Impreza',\n",
       "       'Vivio', 'Levorg', 'XV', '787,500', 'SVX', 'Exiga', '1,124,998',\n",
       "       'Trezia', '1.8', 'Pleo', '1600', '562,500', 'Tribeca', '843,750',\n",
       "       '618,748', '3,352,500', 'Justy', '2,924,998', '1,237,500',\n",
       "       '1,215,000', '2,081,250', '1,293,750', '1,203,750', '2,925,000',\n",
       "       '528,748', '2,249,998', '360', '877,500', '1800', '787,498',\n",
       "       '1,350,000', 'CX-5', 'Axela', 'Atenza', 'Demio', '6', 'Familia',\n",
       "       'CX-3', '5', 'Verisa', 'CX-7', 'MX-5', 'Tribute', 'RX-8',\n",
       "       'Premacy', 'Bongo', 'Biante', '323', 'Flair', 'MPV', '1,687,500',\n",
       "       'Rustler', '2', 'Carol', 'Capella', 'B-Series', '3', '2,362,500',\n",
       "       'B', 'B-series', '2,475,000', '618,750', '1,068,750', '956,250',\n",
       "       '765,000', '742,498', '110', 'AZ', '427,500', '337,500', '506,250',\n",
       "       '450,000', '731,250', 'Etude', '2,290,000', '2,306,248', 'M',\n",
       "       'E300', 'G-Class', 'E200', '260E', 'E250', 'C63', '200E',\n",
       "       'GL-Class', 'S-Class', 'C200', 'C220', 'C180', '220', 'GLA',\n",
       "       'B-Class', 'E350', 'E220', 'A-Class', 'CLK', 'E320', 'C240',\n",
       "       'GLA-Class', 'S', 'Viano', 'SL', 'CLS', '220E', 'E240',\n",
       "       'CLA-Class', '200', 'SLK-Class', '1,968,750', 'GL', '2024', 'SLK',\n",
       "       'E280', 'C250', 'GLC-Class', '190E', 'W123', 'E230', 'C-Class',\n",
       "       'C230', 'C350', '2,474,998', 'CL', '300E', '230E', 'SL-Class',\n",
       "       '2,250,000', '1422', 'AMG', 'Actros', '900,000', 'W124',\n",
       "       'GLE-Class', '3,937,500', '1,518,750', '280E', '720,000', '190',\n",
       "       '500SE', '2,193,750', 'Travego', 'E550', 'Allion', 'Mark', 'Land',\n",
       "       'Harrier', 'Corolla', 'Noah', 'Hilux', 'Crown', 'Sienta', 'Premio',\n",
       "       'TownAce', 'Vanguard', 'Axio', 'RAV4', 'Avensis', 'Voxy',\n",
       "       'Vellfire', 'Fielder', 'Probox', 'FJ', 'Vitz', 'Wish', 'ISIS',\n",
       "       'Spade', 'Auris', 'Passo', 'bB', 'Alphard', 'Ractis', 'Rush',\n",
       "       'Belta', 'Succeed', 'Raum', 'Allex', 'Fortuner', 'Porte', 'Aqua',\n",
       "       'Kluger', 'IST', 'Gaia', 'Estima', 'Picnic', 'Avanza', 'HiAce',\n",
       "       'Toyoace', 'Vista', 'Prius', 'Caldina', 'Platz', 'Lexcen',\n",
       "       'Corona', 'Camry', 'Ipsum', 'Carib', 'Corsa', 'Altezza', 'T100',\n",
       "       '750,000', 'Regius', 'Fun', 'Spacio', 'Starlet', 'Celica',\n",
       "       'Sprinter', 'Sai', 'Duet', 'Townace', 'GT86', 'Blade', 'Nadia',\n",
       "       '4-Runner', 'Cami', 'Run-X', 'Lite-Ace', 'Stallion', 'PRADO',\n",
       "       'MR-S', 'Avalon', 'Supra', 'SA', 'C-HR', 'Verossa', 'GT1',\n",
       "       'Highlander', 'Pixis', 'iQ', 'Will', 'Dyna', 'Paseo', 'Sienna',\n",
       "       'Yaris', nan, '3,600,000', '1000', 'TRD', 'Roomy', 'X4', '320i',\n",
       "       'X5', '528i', '520i', '320d', '116i', 'X3', '120i', 'X1', 'X6',\n",
       "       '535i', '316i', '524d', '118i', '530i', '523i', '7', '323i',\n",
       "       '328i', '535d', 'S-Series', '525i', '318i', '420d', '330i', 'M1',\n",
       "       '320Ci', '316Ti', '216i', '118d', '450', 'M6', '1,856,250',\n",
       "       '3,374,998', 'R-Series', '335i', '3,375,000', '1,012,500', '230i',\n",
       "       '455,000', '686,250', '325i', '523I', '1,912,500', 'Delica',\n",
       "       'Outlander', 'Pajero', 'RVR', 'Mirage', 'Galant', 'Shogun', 'L200',\n",
       "       'Minicab', 'Triton', 'Minica', 'Airtrek', 'Lancer', 'L400', 'EK',\n",
       "       'Eclipse', 'Canter', 'Attrage', 'ASX', 'Colt', 'Spacewagon',\n",
       "       'Grandis', 'Nativa', 'Montero', 'Jeep', '1,451,250', 'SpaceWagon',\n",
       "       '2,137,500', 'Dion', 'Chariot', 'Carisma', 'Celeste', 'Sapporo',\n",
       "       'Golf', 'Up', 'Beetle', 'Amarok', 'Touran', 'Polo', 'Tiguan',\n",
       "       'Passat', 'CC', 'Sharan', 'Lupo', 'Touareg', 'Bora', 'Jetta', '1',\n",
       "       'Citi', 'Caddy', '989,998', '675,000', '2,868,750', 'Q3', 'A4',\n",
       "       'Q5', 'A3', 'A6', 'Q7', 'TT', 'A2', 'A7', 'A5', 'SQ5', 'Quattro',\n",
       "       'A1', '2,025,000', 'RS', 'Discovery', 'Range', 'Freelander',\n",
       "       'Defender', 'Lr4', 'Rover', 'Lr3', 'LR4', 'LR3', '5,399,998',\n",
       "       '1,800,000', 'Lr2', 'I,', '360,000', '4,499,998', 'Swift', 'Every',\n",
       "       'Wagon', 'Alto', 'SC', 'Solio', '250', 'Escudo', 'SX', 'EV', 'ST',\n",
       "       'Bandit', 'SP', 'SR', 'Grand', 'Jimny', 'Vitara', 'Maruti',\n",
       "       'SFV650', 'AP', 'Verona', 'Van', 'Splash', '630,000', 'JR',\n",
       "       'Boost', 'Samurai', 'XL-7', 'AN', 'Sierra', 'Sx4', 'Hayabusa',\n",
       "       'Stepwgn', 'Fit', 'CR-V', 'Vezel', 'Insight', 'N-Wgn', 'Stream',\n",
       "       'Partner', 'CR-Z', 'Odyssey', 'Shuttle', 'Freed', 'Acty', 'Accord',\n",
       "       'City', 'HR-V', 'Airwave', 'Crossroad', 'Mobilio', 'H-Wgn',\n",
       "       'Stepwagon', 'CRV', 'Life', '1,462,500', 'Jazz', '652,500',\n",
       "       'Ballade', '853,875', '810,000', '1,125,000', 'Civic', 'N-WGN',\n",
       "       'Cr-V', 'RX', 'NX', 'LX', 'LS', 'CT', 'GS', 'IS', '4,837,498',\n",
       "       '3,037,500', '4,106,250', '2,700,000', 'GX', 'Rx', 'Gs', 'V40',\n",
       "       'XC60', 'V60', 'S60', 'S40', 'V50', 'V70', 'XC90', 'S70', 'S80',\n",
       "       '244', 'XC70', '740', '240', 'Xc90', 'C70', '207', '508', '208',\n",
       "       '206', '405', '2008', '308', 'RC', '5008', '307', '202', '406',\n",
       "       '504', '607', '3008', '505', '306', '205', '404', '305', '204',\n",
       "       'EcoSport', 'Ranger', 'Ecosport', 'Everest', 'Kuga', 'Explorer',\n",
       "       'Focus', 'Fiesta', 'Transit', 'Mondeo', 'Galaxy', 'Escape',\n",
       "       'Bantam', 'Escort', 'Mustang', 'Telstar', 'Consul', 'Sport',\n",
       "       'HIJET', 'Mira', 'Be-Go', 'Be-go', 'Bee', 'Terios', 'Boon', 'Move',\n",
       "       'Bego', 'Rocky', 'YRV', '539,998', 'Charade', 'Compass',\n",
       "       'Cherokee', 'Wrangler', 'Cayenne', 'Panamera', 'Captiva',\n",
       "       'Chevette', 'Trailblazer', 'Malibu', 'Trans', 'Aveo', 'Lacetti',\n",
       "       'Impala', 'Caprice', '393,750', 'Chevelle', 'Optra', 'MW',\n",
       "       'Camaro', 'Cruze', 'Cobalt', 'Santa', 'Elantra', 'Sonata',\n",
       "       'Tucson', 'I10', 'ix35', 'Creta', 'Palisade', 'i40', 'Accent',\n",
       "       'H1', 'Excel', 'XJ', 'F-Pace', 'XE', 'XF', 'F-Type', 'X-Type',\n",
       "       'Cooper', 'Countryman', 'Hatch', 'Convertible', 'Mini', 'Sportage',\n",
       "       'Sorento', 'Carens', 'Cerato', 'Rio', 'Towner', 'Romeo'],\n",
       "      dtype=object)"
      ]
     },
     "execution_count": 6,
     "metadata": {},
     "output_type": "execute_result"
    }
   ],
   "source": [
    "cars['Model'].unique()"
   ]
  },
  {
   "cell_type": "code",
   "execution_count": 7,
   "metadata": {},
   "outputs": [],
   "source": [
    "cars.drop('Model', axis=1, inplace=True)"
   ]
  },
  {
   "cell_type": "code",
   "execution_count": 8,
   "metadata": {},
   "outputs": [
    {
     "data": {
      "text/plain": [
       "array(['Nissan', 'KSh', 'Subaru', 'Mazda', 'Mercedes-Benz', 'Toyota',\n",
       "       'TOYOTA', nan, 'BMW', 'Bmw', 'Mitsubishi', 'Volkswagen', 'Audi',\n",
       "       'Land Rover', 'Land', 'Suzuki', 'Honda', 'Lexus', 'Volvo',\n",
       "       'Peugeot', 'Ford', 'Daihatsu', 'Jeep', 'Porsche', 'Chevrolet',\n",
       "       'Hyundai', 'Jaguar', 'Mini', 'Kia', 'Alfa'], dtype=object)"
      ]
     },
     "execution_count": 8,
     "metadata": {},
     "output_type": "execute_result"
    }
   ],
   "source": [
    "cars['Make'].unique()"
   ]
  },
  {
   "cell_type": "code",
   "execution_count": 9,
   "metadata": {},
   "outputs": [
    {
     "data": {
      "text/plain": [
       "array(['Nissan', 'NaN', 'Subaru', 'Mazda', 'Mercedes-Benz', 'TOYOTA',\n",
       "       'BMW', 'Mitsubishi', 'Volkswagen', 'Audi', 'Land Rover', 'Suzuki',\n",
       "       'Honda', 'Lexus', 'Volvo', 'Peugeot', 'Ford', 'Daihatsu', 'Jeep',\n",
       "       'Porsche', 'Chevrolet', 'Hyundai', 'Jaguar', 'Mini', 'Kia', 'Alfa'],\n",
       "      dtype=object)"
      ]
     },
     "execution_count": 9,
     "metadata": {},
     "output_type": "execute_result"
    }
   ],
   "source": [
    "cars.Make[cars.Make =='KSh'] ='NaN'\n",
    "cars.dropna(subset = ['Make'], inplace=True)\n",
    "cars.Make[cars.Make =='Bmw'] ='BMW'\n",
    "cars.Make[cars.Make =='Toyota'] ='TOYOTA'\n",
    "cars.Make[cars.Make =='Land'] ='Land Rover'\n",
    "\n",
    "cars.Make.unique()"
   ]
  },
  {
   "cell_type": "code",
   "execution_count": 10,
   "metadata": {},
   "outputs": [
    {
     "data": {
      "text/plain": [
       "array(['Black', 'Silver', 'Gray', 'White', 'Green', 'Brown', 'Purple',\n",
       "       'Beige', 'Red', 'Pearl', 'Orange', 'Pink', '2014', 'Blue', 'Gold',\n",
       "       '2012', 'Other', 'Yellow', 'Burgandy', '2013', 'Teal', 'white',\n",
       "       'Premium', '2015', 'SV', 'Ivory', '2002', '2006', '1.4', '2011',\n",
       "       '2008', '899,999', '2004', '2.0', '1.2', '2009', '620,000', '2007',\n",
       "       '1.8', 'Shape', '787,500', '1,124,998', 'Trend', '562,500',\n",
       "       '843,750', '618,748', '3,352,500', '2010', '2,924,998',\n",
       "       '1,237,500', '1,215,000', 'Package', '2,081,250', '1,293,750',\n",
       "       '1,203,750', '2,925,000', '528,748', '2,249,998', '877,500',\n",
       "       '2005', 'silver', '787,498', 'green', 'beige', 'black', 'blue',\n",
       "       'red', '1,350,000', 'purple', 'gray', 'orange', '2016',\n",
       "       '1,687,500', '2,362,500', 'AWD', '2,475,000', '618,750',\n",
       "       '1,068,750', '956,250', '765,000', '742,498', '427,500', '337,500',\n",
       "       '506,250', '450,000', '731,250', 'brown', '2,290,000', '2,306,248',\n",
       "       '1,968,750', '1989', '2,474,998', '1988', '1997', '2,250,000',\n",
       "       '900,000', '3,937,500', '1,518,750', '720,000', '1996',\n",
       "       '2,193,750', '4WD', 'D-4d', '750,000', 'FWD', '2018', 'Seater)',\n",
       "       'RWD', 'Cab', '16V', '2003', 'Sedan', 'Wagon', '4x4', '2001',\n",
       "       '2017', 'ZX', 'VVT-i', 'ALTITUDE', '1.5', 'SR', 'SR5', '2WD',\n",
       "       '3dr', 'WORKMATE', '3,600,000', '2021', '5dr', '2.8', 'GX-R',\n",
       "       'Whte', 'sDrive28i', 'xDrive35d', '1,856,250', '3,374,998',\n",
       "       '3,375,000', '1,012,500', '455,000', '686,250', '3.0i', 'gold',\n",
       "       '1,912,500', '1995', 'DI-D', '1,451,250', '2,137,500', 'GLS',\n",
       "       'Executive', '989,998', 'SE', '675,000', '2,868,750', 'Balck',\n",
       "       'Quattro', '2,025,000', '8A)', '5,399,998', '1,800,000', '360,000',\n",
       "       '4,499,998', '630,000', 'yellow', 'ivory', 'pink', '1,462,500',\n",
       "       '652,500', '853,875', '810,000', '1,125,000', 'Aria', 'Base',\n",
       "       '4,837,498', '3,037,500', '4,106,250', '2,700,000', '539,998',\n",
       "       '393,750', 'Coupe'], dtype=object)"
      ]
     },
     "execution_count": 10,
     "metadata": {},
     "output_type": "execute_result"
    }
   ],
   "source": [
    "cars['Color'].unique()"
   ]
  },
  {
   "cell_type": "code",
   "execution_count": 11,
   "metadata": {},
   "outputs": [
    {
     "name": "stdout",
     "output_type": "stream",
     "text": [
      "['Black' 'Silver' 'Gray' 'White' 'Green' 'Brown' 'Purple' 'Beige' 'Red'\n",
      " 'Pearl' 'Orange' 'Pink' nan 'Blue' 'Gold' 'Yellow' 'Burgandy' 'Teal'\n",
      " 'Ivory']\n"
     ]
    }
   ],
   "source": [
    "colors_mapping = {\n",
    "    'black': 'Black',\n",
    "    'silver': 'Silver',\n",
    "    'gray': 'Gray',\n",
    "    'white': 'White',\n",
    "    'green': 'Green',\n",
    "    'brown': 'Brown',\n",
    "    'purple': 'Purple',\n",
    "    'beige': 'Beige',\n",
    "    'red': 'Red',\n",
    "    'pearl': 'Pearl',\n",
    "    'orange': 'Orange',\n",
    "    'pink': 'Pink',\n",
    "    'blue': 'Blue',\n",
    "    'gold': 'Gold',\n",
    "    'yellow': 'Yellow',\n",
    "    'burgandy': 'Burgandy',\n",
    "    'teal': 'Teal',\n",
    "    'ivory': 'Ivory',\n",
    "    'whte': 'White',  # Assuming 'whte' is a typo and should be 'white'\n",
    "}\n",
    "\n",
    "# Convert the 'Color' column to lowercase and map valid colors\n",
    "cars['Color'] = cars['Color'].str.lower().map(colors_mapping)\n",
    "\n",
    "# Display unique values in the cleaned 'Color' column\n",
    "print(cars['Color'].unique())"
   ]
  },
  {
   "cell_type": "code",
   "execution_count": 12,
   "metadata": {},
   "outputs": [],
   "source": [
    "# Drop rows with missing values in the 'Color' column\n",
    "cars.dropna(subset=['Color'], inplace=True)"
   ]
  },
  {
   "cell_type": "code",
   "execution_count": 13,
   "metadata": {},
   "outputs": [
    {
     "data": {
      "text/plain": [
       "array(['Foreign Used', 'Kenyan Used', 'Brand New', 'Automatic', 'Manual',\n",
       "       '94871'], dtype=object)"
      ]
     },
     "execution_count": 13,
     "metadata": {},
     "output_type": "execute_result"
    }
   ],
   "source": [
    "cars['Used'].unique()"
   ]
  },
  {
   "cell_type": "code",
   "execution_count": 14,
   "metadata": {},
   "outputs": [
    {
     "data": {
      "text/plain": [
       "array(['Foreign Used', 'Kenyan Used', 'Brand New'], dtype=object)"
      ]
     },
     "execution_count": 14,
     "metadata": {},
     "output_type": "execute_result"
    }
   ],
   "source": [
    "cars['Used'].replace(('Manual', 'Automatic', \n",
    "       'km', 'Mombasa, Mombasa CBD', '94871'), float('NaN'),\n",
    "                     inplace=True)\n",
    "cars.dropna(subset = ['Used'], inplace=True)\n",
    "cars.Used.unique()"
   ]
  },
  {
   "cell_type": "code",
   "execution_count": 15,
   "metadata": {},
   "outputs": [
    {
     "data": {
      "text/plain": [
       "array(['Automatic', 'Manual', 'CVT', 'AMT'], dtype=object)"
      ]
     },
     "execution_count": 15,
     "metadata": {},
     "output_type": "execute_result"
    }
   ],
   "source": [
    "cars['Transmission'].unique()"
   ]
  },
  {
   "cell_type": "code",
   "execution_count": 16,
   "metadata": {},
   "outputs": [
    {
     "data": {
      "text/plain": [
       "array([136000, 85000, 90231, ..., 117590, 100144, 75048], dtype=object)"
      ]
     },
     "execution_count": 16,
     "metadata": {},
     "output_type": "execute_result"
    }
   ],
   "source": [
    "cars.Mileage.unique()"
   ]
  },
  {
   "cell_type": "code",
   "execution_count": 17,
   "metadata": {},
   "outputs": [
    {
     "name": "stdout",
     "output_type": "stream",
     "text": [
      "count           45147\n",
      "unique          10525\n",
      "top       Unavailable\n",
      "freq             8103\n",
      "Name: Mileage, dtype: object\n"
     ]
    }
   ],
   "source": [
    "# Use describe to get summary statistics\n",
    "mileage_summary = cars['Mileage'].describe()\n",
    "\n",
    "# Print the summary statistics\n",
    "print(mileage_summary)"
   ]
  },
  {
   "cell_type": "code",
   "execution_count": 18,
   "metadata": {},
   "outputs": [
    {
     "data": {
      "text/plain": [
       "array([136000, 85000, 90231, ..., 117590, 100144, 75048], dtype=object)"
      ]
     },
     "execution_count": 18,
     "metadata": {},
     "output_type": "execute_result"
    }
   ],
   "source": [
    "cars['Mileage'] = cars['Mileage'].replace('...', pd.NA, regex=False)\n",
    "cars.Mileage.unique()"
   ]
  },
  {
   "cell_type": "code",
   "execution_count": 19,
   "metadata": {},
   "outputs": [],
   "source": [
    "# Convert the 'Mileage' column to numeric, excluding 'Unavailable' values\n",
    "cars['Mileage'] = pd.to_numeric(cars['Mileage'], errors='coerce')\n",
    "\n",
    "# Replace 'Unavailable' with the median of numeric values\n",
    "cars['Mileage'].replace('Unavailable', cars['Mileage'].median(), inplace=True)"
   ]
  },
  {
   "cell_type": "code",
   "execution_count": 20,
   "metadata": {},
   "outputs": [
    {
     "name": "stdout",
     "output_type": "stream",
     "text": [
      "Is 'Unavailable' present in the Mileage column? False\n"
     ]
    }
   ],
   "source": [
    "# Check if 'Unavailable' is present in the 'Mileage' column\n",
    "unavailable_check = 'Unavailable' in cars['Mileage'].values\n",
    "\n",
    "# Print the result\n",
    "print(\"Is 'Unavailable' present in the Mileage column?\", unavailable_check)"
   ]
  },
  {
   "cell_type": "code",
   "execution_count": 21,
   "metadata": {},
   "outputs": [],
   "source": [
    "# Calculate the median of the 'Mileage' column\n",
    "median_mileage = cars['Mileage'].median()\n",
    "\n",
    "# Fill missing values in the 'Mileage' column with the median\n",
    "cars['Mileage'].fillna(median_mileage, inplace=True)\n"
   ]
  },
  {
   "cell_type": "code",
   "execution_count": 22,
   "metadata": {},
   "outputs": [
    {
     "data": {
      "text/plain": [
       "array(['Nairobi, Karen', 'Nairobi, Kilimani', 'Nairobi, Ridgeways',\n",
       "       'Nairobi, Jamhuri', 'Mombasa, Mombasa CBD',\n",
       "       'Nairobi, Nairobi Central', 'Mombasa, Mvita',\n",
       "       'Mombasa, Kizingo / Mombasa', 'Nairobi, Lavington',\n",
       "       'Mombasa, Tudor', 'Kiambu, Kiambu / Kiambu', 'Nairobi, Muthaiga',\n",
       "       'Mombasa, Ganjoni', 'Nairobi, Parklands/Highridge',\n",
       "       'Nairobi, South C', 'Nairobi, Dagoretti', 'Nairobi, Langata',\n",
       "       'Mombasa, Kisauni', 'Nairobi, Kasarani', 'Nairobi, Westlands',\n",
       "       'Kiambu, Ruaka', 'Kiambu, Githunguri', 'Mombasa, Tononoka',\n",
       "       'Mombasa, Shimanzi', 'Mombasa, Changamwe', 'Nairobi, Mombasa Road',\n",
       "       'Mombasa, Mbaraki', 'Nairobi', 'Kiambu, Juja', 'Nairobi, Pangani',\n",
       "       'Machakos, Athi River', 'Nairobi, Thome / Nairobi',\n",
       "       'Nyeri, Karatina Town', 'Uasin Gishu, Eldoret CBD',\n",
       "       'Nairobi, Roysambu', 'Nairobi, Industrial Area Nairobi',\n",
       "       'Mombasa, Nyali', 'Nairobi, Runda', 'Nairobi, Nairobi West',\n",
       "       'Nakuru, Nakuru Town East', 'Nakuru, Nakuru Town West',\n",
       "       'Nairobi, Nairobi South', 'Mombasa, Makadara (Msa)',\n",
       "       'Nairobi, Woodley/Kenyatta Golf Course', 'Isiolo, Wabera',\n",
       "       'Nairobi, Kileleshwa', 'Nairobi, Komarock', 'Nairobi, South B',\n",
       "       'Nairobi, Embakasi', 'Kiambu, Thika', 'Nairobi, Utawala',\n",
       "       'Machakos, Syokimau', 'Nairobi, Baba Dogo', 'Nairobi, Kahawa',\n",
       "       'Mombasa, Kikowani', 'Kiambu, Ruiru', 'Kericho, Kapsoit',\n",
       "       'Kiambu, Rosslyn', 'Nairobi, Donholm', 'Lamu, Witu',\n",
       "       'Nairobi, Ruaraka', 'Nairobi, Umoja', 'Nairobi, Kibra',\n",
       "       'Nairobi, Makadara', 'Machakos, Machakos Town',\n",
       "       'Kisumu, Kisumu Central', 'Nairobi, Kangemi', 'Nairobi, Ruai',\n",
       "       'Kajiado, Kitengela', 'Nairobi, Upperhill', 'Nairobi, Githurai',\n",
       "       'Nyeri, Nyeri Town', 'Nairobi, Kahawa West', 'Nairobi, Eastleigh',\n",
       "       'Kilifi, Mtwapa', 'Kiambu, Kikuyu', 'Kajiado, Ongata Rongai',\n",
       "       'Nairobi, Ngara', 'Nairobi, California', 'Narok, Mara',\n",
       "       'Nairobi, Mountain View', 'Nyeri, Dedan Kimanthi',\n",
       "       'Nairobi, Utalii', 'Nairobi, Makongeni', 'Nairobi, Kariobangi',\n",
       "       'Nairobi, Airbase', 'Kilifi, Malindi', \"Murang'a, Township G\",\n",
       "       'Kajiado, Kiserian', 'Kakamega, Butsotso East',\n",
       "       'Uasin Gishu, Turbo', 'Embu, Kirima / Embu', 'Kirinyaga, Kerugoya',\n",
       "       'Embu, Central Ward', 'Kitui, Township', 'Trans-Nzoia, Sitatunga',\n",
       "       'Nakuru, Naivasha', 'Nairobi, Imara Daima',\n",
       "       'Laikipia, Laikipia West', 'Kajiado, Ngong', 'Embu, Kiambere',\n",
       "       'Kiambu, Kabete', 'Meru, Municipality', 'Laikipia, Nyahururu',\n",
       "       'Laikipia, Nanyuki', 'Nyeri, Kieni', 'Mombasa, Bamburi',\n",
       "       'Kericho, Ainamoi', 'Machakos, Mavoko', 'Makueni, Mtito Andei',\n",
       "       'Uasin Gishu, Kapseret', 'Marsabit, Marsabit Central',\n",
       "       'Nairobi, Kamulu', 'Bungoma, Tongaren', 'Nakuru, Mbaruk/Eburu',\n",
       "       'Kirinyaga, Thiba', 'Nakuru, Bahati / Nakuru', 'Kakamega, Shirere',\n",
       "       'Kiambu, Limuru', 'Nyandarua, Magumu', 'Nairobi, Kawangware',\n",
       "       'Kiambu, Kiambaa', 'Kiambu, Gatundu North', 'Nairobi, Dandora',\n",
       "       'Nakuru, Njoro', 'Bomet, Silibwet Township',\n",
       "       'Makueni, Emali/Mulala', 'Kericho, Soin (Sigowet)',\n",
       "       'Bungoma, Khalaba (Kanduyi)', 'Nakuru, Lanet',\n",
       "       'Kilifi, Kilifi South', 'Machakos, Kangundo', 'Makueni, Wote',\n",
       "       'Busia, Nambale Township', 'Machakos, Mwala', 'Makueni, Kilungu',\n",
       "       'Embu, Kagaari North', 'Makueni, Makindu', 'Kisii, Kisii CBD',\n",
       "       'Kiambu, Gatundu South', 'Nakuru, Gilgil', 'Kajiado, Loitoktok',\n",
       "       'Mombasa, Likoni', 'Makueni, Mbooni', 'Kiambu, Gachie',\n",
       "       'Kericho, Litein', 'Migori, Central Sakwa (Awendo)',\n",
       "       'Nairobi, Mbagathi Way', 'Nairobi, Maringo/Hamza',\n",
       "       'Mombasa, Shanzu', 'Baringo, Ravine', 'Nyandarua, Weru',\n",
       "       'Nakuru, Subukia', 'Nairobi, Landimawe', 'Machakos, Mlolongo',\n",
       "       'Nairobi, Huruma / Nairobi', \"Murang'a, Kangari\",\n",
       "       'Siaya, East Ugenya', 'Nairobi, Zimmerman', 'Nakuru, Molo',\n",
       "       'Kitui, Kisasi', 'Kilifi, Kilifi North', 'Narok, Narok Town',\n",
       "       'Uasin Gishu, Ainabkoi', 'Trans-Nzoia, Kitale',\n",
       "       'Turkana, Lodwar Township', 'Migori, Kwa',\n",
       "       'Homa Bay, Homa Bay East', 'Kajiado, Kajiado CBD',\n",
       "       'Nairobi, Clay City', 'Machakos, Matungulu', \"Murang'a, Mugoiri\",\n",
       "       \"Murang'a, Makuyu\", 'Uasin Gishu, Moiben', 'Kiambu, Banana',\n",
       "       'Nyeri, Othaya', 'Nairobi, Kitisuru', 'Nairobi, Lucky Summer',\n",
       "       'Mombasa, Industrial Area (Msa)', 'Nairobi, Mowlem',\n",
       "       'Kakamega, Lusheya/Lubinu', \"Murang'a, Kigumo\", 'Nakuru, London',\n",
       "       'Mombasa, Old Town', 'Nyandarua, Githabai', 'Nakuru, Rongai',\n",
       "       'Meru, Igoji East', 'Nairobi, Kayole', 'Bungoma, Kimilili',\n",
       "       'Embu, Mavuria', 'Nairobi, Chokaa', 'Narok, Kilgoris Central',\n",
       "       'Homa Bay, Homa Bay Central', 'Kilifi, Magarini',\n",
       "       'Nairobi, Pumwani', 'Nyamira, Township F', 'Trans-Nzoia, Kiminini',\n",
       "       'Nyeri, Mathira', 'Nandi, Kosirai', 'Nyeri, Naromoru Kiamathaga',\n",
       "       'Embu, Gaturi South', 'Baringo, Kabarnet',\n",
       "       \"Murang'a, Kimorori/Wempa\", 'Kiambu, Lari', 'Machakos, Yatta',\n",
       "       'Nandi, Kapsabet', 'Kirinyaga, Mutithi', 'Nandi, Chepkumia',\n",
       "       'Meru, Maua', 'Nairobi, Saika', 'Embu, Mwea',\n",
       "       'Vihiga, Luanda Township', 'Nairobi, Kiamaiko',\n",
       "       'Bungoma, Ndalu/ Tabani', 'Nyeri, Kirimukuyu',\n",
       "       'Kitui, Kyangwithya West', \"Murang'a, Kagundu-Ini\",\n",
       "       'Kajiado, Isinya', 'Kwale, Ukunda', 'Nyandarua, Engineer',\n",
       "       'Isiolo, Isiolo North', 'Kericho, Kabianga',\n",
       "       'Nakuru, Kuresoi North', 'Samburu, Maralal', \"Murang'a, Mbiri\",\n",
       "       'Kilifi, Kilifi Town', 'Laikipia, Laikipia East',\n",
       "       'Embu, Ruguru/Ngandori / Embu', 'Nyandarua, Central Ndaragwa',\n",
       "       'Meru, Ntima East', 'Nyandarua, NjabiniKiburu',\n",
       "       'Kakamega, Idakho South', 'Kericho, Kapkugerwet',\n",
       "       'Kakamega, Chemuche', 'Kericho, Cheptororiet/Seretut',\n",
       "       'Bungoma, Soysambu/Mitua', 'Uasin Gishu, Soy',\n",
       "       'Kakamega, Isukha Central', 'Kajiado, Kimana',\n",
       "       'Meru, Abothuguchi Central', 'Kisumu, North West Kisumu',\n",
       "       'Uasin Gishu, Kesses', 'Nyandarua, North Kinangop', 'Meru, Nkuene',\n",
       "       'Kisumu, Kisumu East', 'Kakamega, Mumias Central',\n",
       "       'Kakamega, Butsotso Central', 'Meru, Kangeta',\n",
       "       'Kisii, South Mugirango', 'Meru, Igembe East',\n",
       "       'Kericho, Kipkelion', 'Trans-Nzoia, Makutano', 'Nyeri, Mukurweini',\n",
       "       'Kiambu, Ndenderu', 'Kakamega, Nzoia', 'Mombasa, Chaani',\n",
       "       'Embu, Gaturi North', 'Bomet, Longisa', 'Kisumu, Kisumu West',\n",
       "       'Nairobi, Njiru', 'Homa Bay, Homa Bay Arujo', 'Nakuru',\n",
       "       'Bungoma, Musikoma', 'Tharaka-Nithi, Chogoria',\n",
       "       'Migori, Central Kamagambo', 'Meru, Nyaki West', 'Nairobi, Mwiki',\n",
       "       'Kitui, Central Mwingi', 'Bungoma, Township D',\n",
       "       'Migori, Suna Central', 'Meru, Nkomo',\n",
       "       'Siaya, North Sakwa (Bondo)', 'Mombasa, Jomvu',\n",
       "       'Tharaka-Nithi, Muthambi', 'Nyandarua, Karau',\n",
       "       'Nandi, Nandi Hills'], dtype=object)"
      ]
     },
     "execution_count": 22,
     "metadata": {},
     "output_type": "execute_result"
    }
   ],
   "source": [
    "cars.Location.unique()"
   ]
  },
  {
   "cell_type": "code",
   "execution_count": 23,
   "metadata": {},
   "outputs": [
    {
     "data": {
      "text/html": [
       "<div>\n",
       "<style scoped>\n",
       "    .dataframe tbody tr th:only-of-type {\n",
       "        vertical-align: middle;\n",
       "    }\n",
       "\n",
       "    .dataframe tbody tr th {\n",
       "        vertical-align: top;\n",
       "    }\n",
       "\n",
       "    .dataframe thead th {\n",
       "        text-align: right;\n",
       "    }\n",
       "</style>\n",
       "<table border=\"1\" class=\"dataframe\">\n",
       "  <thead>\n",
       "    <tr style=\"text-align: right;\">\n",
       "      <th></th>\n",
       "      <th>Location</th>\n",
       "      <th>City</th>\n",
       "      <th>Area</th>\n",
       "    </tr>\n",
       "  </thead>\n",
       "  <tbody>\n",
       "    <tr>\n",
       "      <th>0</th>\n",
       "      <td>Nairobi, Karen</td>\n",
       "      <td>Nairobi</td>\n",
       "      <td>Karen</td>\n",
       "    </tr>\n",
       "    <tr>\n",
       "      <th>1</th>\n",
       "      <td>Nairobi, Kilimani</td>\n",
       "      <td>Nairobi</td>\n",
       "      <td>Kilimani</td>\n",
       "    </tr>\n",
       "    <tr>\n",
       "      <th>2</th>\n",
       "      <td>Nairobi, Ridgeways</td>\n",
       "      <td>Nairobi</td>\n",
       "      <td>Ridgeways</td>\n",
       "    </tr>\n",
       "    <tr>\n",
       "      <th>3</th>\n",
       "      <td>Nairobi, Jamhuri</td>\n",
       "      <td>Nairobi</td>\n",
       "      <td>Jamhuri</td>\n",
       "    </tr>\n",
       "    <tr>\n",
       "      <th>4</th>\n",
       "      <td>Mombasa, Mombasa CBD</td>\n",
       "      <td>Mombasa</td>\n",
       "      <td>Mombasa CBD</td>\n",
       "    </tr>\n",
       "  </tbody>\n",
       "</table>\n",
       "</div>"
      ],
      "text/plain": [
       "               Location     City          Area\n",
       "0        Nairobi, Karen  Nairobi         Karen\n",
       "1     Nairobi, Kilimani  Nairobi      Kilimani\n",
       "2    Nairobi, Ridgeways  Nairobi     Ridgeways\n",
       "3      Nairobi, Jamhuri  Nairobi       Jamhuri\n",
       "4  Mombasa, Mombasa CBD  Mombasa   Mombasa CBD"
      ]
     },
     "execution_count": 23,
     "metadata": {},
     "output_type": "execute_result"
    }
   ],
   "source": [
    "# Split the 'Location' column into 'City' and 'Area' columns\n",
    "cars[['City', 'Area']] = cars['Location'].str.split(',', expand=True)\n",
    "\n",
    "# Display the first few rows of the new columns along with the original 'Location' column for verification\n",
    "cars[['Location', 'City', 'Area']].head()"
   ]
  },
  {
   "cell_type": "code",
   "execution_count": 24,
   "metadata": {},
   "outputs": [],
   "source": [
    "# cars.drop('Location', axis=1, inplace=True)"
   ]
  },
  {
   "cell_type": "code",
   "execution_count": 25,
   "metadata": {},
   "outputs": [
    {
     "name": "stdout",
     "output_type": "stream",
     "text": [
      "     Make   YOM   Color          Used Transmission   Mileage  \\\n",
      "0  Nissan  2014   Black  Foreign Used    Automatic  136000.0   \n",
      "1  Nissan  2014  Silver  Foreign Used    Automatic   85000.0   \n",
      "2  Nissan  2013    Gray  Foreign Used    Automatic   90231.0   \n",
      "3  Nissan  2014   White  Foreign Used    Automatic   52000.0   \n",
      "4  Nissan  2014   White  Foreign Used    Automatic   86532.0   \n",
      "\n",
      "               Location     Price     City          Area  \n",
      "0        Nairobi, Karen   2050000  Nairobi         Karen  \n",
      "1     Nairobi, Kilimani   1380000  Nairobi      Kilimani  \n",
      "2    Nairobi, Ridgeways    995000  Nairobi     Ridgeways  \n",
      "3      Nairobi, Jamhuri   2500000  Nairobi       Jamhuri  \n",
      "4  Mombasa, Mombasa CBD   1100000  Mombasa   Mombasa CBD  \n"
     ]
    }
   ],
   "source": [
    "# assuming your DataFrame is named 'cars' and the 'Price' column contains 'KSh' and commas\n",
    "price_column = ['Price']\n",
    "for column in price_column:\n",
    "    cars[column] = cars[column].replace({'KSh': '', ',': ''}, regex=True)\n",
    "    \n",
    "print(cars.head())"
   ]
  },
  {
   "cell_type": "code",
   "execution_count": 26,
   "metadata": {},
   "outputs": [
    {
     "data": {
      "text/plain": [
       "array([' 2050000', ' 1380000', ' 995000', ..., ' 4320000', ' 2787000',\n",
       "       ' 289000'], dtype=object)"
      ]
     },
     "execution_count": 26,
     "metadata": {},
     "output_type": "execute_result"
    }
   ],
   "source": [
    "cars['Price'] = cars['Price'].astype(str).astype(str)\n",
    "cars['Price'] = cars['Price'].str.replace('^\\D*$', '', regex=True)\n",
    "\n",
    "cars.Price.unique()"
   ]
  },
  {
   "cell_type": "code",
   "execution_count": 27,
   "metadata": {},
   "outputs": [
    {
     "data": {
      "text/plain": [
       "array([2014, 2013, 2015, 1978, 2012, 2007, 2005, 1994, 2011, 2017, 2018,\n",
       "       1990, 2003, 2008, 1987, 2016, 2010, 2009, 1966, 2000, 1991, 2004,\n",
       "       1996, 1998, 2006, 1997, 2001, 2002, 1981, 1999, 1986, 1995, 1992,\n",
       "       1985, 1993, 1988, 1989, 2019, 1984, 1975, 2020, 1980, 1977, 1982,\n",
       "       2021, 1965, 1979, 1976, 1973, 1967, 1963, 1968, 1983, 1961, 1972,\n",
       "       1957], dtype=object)"
      ]
     },
     "execution_count": 27,
     "metadata": {},
     "output_type": "execute_result"
    }
   ],
   "source": [
    "cars.YOM.unique()"
   ]
  },
  {
   "cell_type": "code",
   "execution_count": 28,
   "metadata": {},
   "outputs": [
    {
     "data": {
      "text/plain": [
       "array([2014, 2013, 2015, 1978, 2012, 2007, 2005, 1994, 2011, 2017, 2018,\n",
       "       1990, 2003, 2008, 1987, 2016, 2010, 2009, 1966, 2000, 1991, 2004,\n",
       "       1996, 1998, 2006, 1997, 2001, 2002, 1981, 1999, 1986, 1995, 1992,\n",
       "       1985, 1993, 1988, 1989, 2019, 1984, 1975, 2020, 1980, 1977, 1982,\n",
       "       2021, 1965, 1979, 1976, 1973, 1967, 1963, 1968, 1983, 1961, 1972,\n",
       "       1957], dtype=object)"
      ]
     },
     "execution_count": 28,
     "metadata": {},
     "output_type": "execute_result"
    }
   ],
   "source": [
    "# replace unknown with NaN\n",
    "cars.YOM[cars.YOM =='Unkown'] ='NaN'\n",
    "cars.YOM.unique()"
   ]
  },
  {
   "cell_type": "code",
   "execution_count": 29,
   "metadata": {},
   "outputs": [
    {
     "data": {
      "text/plain": [
       "Make              0\n",
       "YOM               0\n",
       "Color             0\n",
       "Used              0\n",
       "Transmission      0\n",
       "Mileage           0\n",
       "Location          0\n",
       "Price             0\n",
       "City              0\n",
       "Area            326\n",
       "dtype: int64"
      ]
     },
     "execution_count": 29,
     "metadata": {},
     "output_type": "execute_result"
    }
   ],
   "source": [
    "cars.isnull().sum()"
   ]
  },
  {
   "cell_type": "code",
   "execution_count": 30,
   "metadata": {},
   "outputs": [],
   "source": [
    "# Save the cleaned DataFrame to a CSV file\n",
    "cars.to_csv('data\\cleaned_cars.csv', index=False)"
   ]
  }
 ],
 "metadata": {
  "kernelspec": {
   "display_name": "Python (learn-env)",
   "language": "python",
   "name": "learn-env"
  },
  "language_info": {
   "codemirror_mode": {
    "name": "ipython",
    "version": 3
   },
   "file_extension": ".py",
   "mimetype": "text/x-python",
   "name": "python",
   "nbconvert_exporter": "python",
   "pygments_lexer": "ipython3",
   "version": "3.10.13"
  }
 },
 "nbformat": 4,
 "nbformat_minor": 2
}
